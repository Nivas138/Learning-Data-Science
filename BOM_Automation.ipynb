{
 "cells": [
  {
   "cell_type": "code",
   "execution_count": null,
   "metadata": {
    "scrolled": true
   },
   "outputs": [
    {
     "name": "stdout",
     "output_type": "stream",
     "text": [
      "BOM AUTOMATION FROM EXCEL\n"
     ]
    },
    {
     "name": "stderr",
     "output_type": "stream",
     "text": [
      "N/A% (0 of 14251) |                      | Elapsed Time: 0:00:00 ETA:  --:--:--C:\\Users\\Nivas\\Anaconda3\\lib\\site-packages\\ipykernel_launcher.py:30: SettingWithCopyWarning: \n",
      "A value is trying to be set on a copy of a slice from a DataFrame\n",
      "\n",
      "See the caveats in the documentation: http://pandas.pydata.org/pandas-docs/stable/indexing.html#indexing-view-versus-copy\n",
      "  0% (1 of 14251) |                      | Elapsed Time: 0:00:00 ETA:   0:35:08"
     ]
    },
    {
     "name": "stdout",
     "output_type": "stream",
     "text": [
      "Total Data Running : \n",
      "14251\n",
      "Hello Dude !!\n",
      "I'm Running, Be Patient for maximum 39 minutes I will notify you !!\n"
     ]
    },
    {
     "name": "stderr",
     "output_type": "stream",
     "text": [
      "  3% (538 of 14251) |                    | Elapsed Time: 0:01:23 ETA:   0:40:19"
     ]
    }
   ],
   "source": [
    "print('BOM AUTOMATION FROM EXCEL')\n",
    "#reading excel file\n",
    "import pandas as pd\n",
    "df=pd.read_excel('./ex.xlsx')\n",
    "#required columns\n",
    "req_coll = ['Header Material','BOM Component','Component quantity','Base UoM for BOM','Created On','Created By','Last Changed On','Last Changed By']\n",
    "df=df[req_coll]\n",
    "#null rows with coressponding columns\n",
    "req_null = ['BOM Component','Base UoM for BOM','Created On','Created By','Last Changed On','Last Changed By']\n",
    "#cleaning the yellow rows\n",
    "df.dropna(axis=0,subset=req_null,inplace=True,how='all')\n",
    "df.reset_index(drop=True,inplace=True)\n",
    "#calculationg time \n",
    "Count_Row=df.shape[0]\n",
    "print(\"Total Data Running : \" )\n",
    "print(Count_Row)\n",
    "import math\n",
    "time=Count_Row/375\n",
    "time1=math.ceil(time)\n",
    "time2=str(time1)\n",
    "print(\"Hello Dude !!\")\n",
    "print(\"I'm Running, Be Patient for maximum \" + time2 + \" minutes I will notify you !!\")\n",
    "import time\n",
    "import progressbar\n",
    "with progressbar.ProgressBar() as bar:\n",
    "#replace ca with gt\n",
    "    count=0\n",
    "    for i in bar(range(Count_Row)):\n",
    "        time.sleep(0.1)\n",
    "        df['Header Material'][count]='GT'+df['Header Material'][count][2:]\n",
    "        bar.update( i+1)\n",
    "        count+=1\n",
    "#sheet names\n",
    "sheet_name=['sheet1','SW','TRD','RIM','KYLE','ADD','SF']\n",
    "#saving all excel files in one book after list to dataframe , dataframe to excel using function\n",
    "from pandas import ExcelWriter\n",
    "def save_xls(df_all_list,excel_path,sheet_name_list):\n",
    "    writer = ExcelWriter(excel_path)\n",
    "    for n, df in enumerate(df_all_list):\n",
    "        df.to_excel(writer,sheet_name_list[n],index=False)\n",
    "    writer.save()\n",
    "    print(\"Task Done!! Thank you for your patience !!\")\n",
    "    print('\\nNow !! Go back to the same folder & get your required workbook named as \"new_required_book.xls\" ')\n",
    "bar.finish()\n",
    "#rest all sheets initited list for fetching data\n",
    "sw_list=[]\n",
    "trd_list=[]\n",
    "rim_list=[]\n",
    "kyle_list=[]\n",
    "add_list=[]\n",
    "sf_list=[]\n",
    "#checking bom component\n",
    "count=0\n",
    "for i in df['BOM Component']:\n",
    "    if i[:2]=='SW':\n",
    "        sw_list.append(count)\n",
    "    elif i[:2]=='TE':\n",
    "        trd_list.append(count)\n",
    "    elif i[:2]=='RS':\n",
    "        rim_list.append(count)\n",
    "    elif i[:2]=='KS':\n",
    "        kyle_list.append(count)\n",
    "    elif i[:2]=='AS':\n",
    "        add_list.append(count)\n",
    "    elif i[:2]=='FS':\n",
    "        sf_list.append(count)\n",
    "    count+=1\n",
    "#fetched the required list with required parameters\n",
    "df_sw=df.iloc[sw_list,:4]\n",
    "df_trd=df.iloc[trd_list,:4]\n",
    "df_rim=df.iloc[rim_list,:4]\n",
    "df_kyle=df.iloc[kyle_list,:4]\n",
    "df_add=df.iloc[add_list,:4]\n",
    "df_sf=df.iloc[sf_list,:4]\n",
    "df_all=[df,df_sw,df_trd,df_rim,df_kyle,df_add,df_sf]\n",
    "#list to dataframe and to excel function calling\n",
    "save_xls(df_all,'new_required_book.xls',sheet_name)"
   ]
  },
  {
   "cell_type": "code",
   "execution_count": null,
   "metadata": {},
   "outputs": [],
   "source": []
  },
  {
   "cell_type": "code",
   "execution_count": null,
   "metadata": {},
   "outputs": [],
   "source": []
  },
  {
   "cell_type": "code",
   "execution_count": null,
   "metadata": {},
   "outputs": [],
   "source": []
  },
  {
   "cell_type": "code",
   "execution_count": null,
   "metadata": {},
   "outputs": [],
   "source": []
  }
 ],
 "metadata": {
  "kernelspec": {
   "display_name": "Python 3",
   "language": "python",
   "name": "python3"
  },
  "language_info": {
   "codemirror_mode": {
    "name": "ipython",
    "version": 3
   },
   "file_extension": ".py",
   "mimetype": "text/x-python",
   "name": "python",
   "nbconvert_exporter": "python",
   "pygments_lexer": "ipython3",
   "version": "3.6.5"
  }
 },
 "nbformat": 4,
 "nbformat_minor": 2
}
